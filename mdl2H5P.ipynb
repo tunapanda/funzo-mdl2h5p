{
 "metadata": {
  "name": "",
  "signature": "sha256:db86c897c9ed6e4b33e31e1e9ef5945c3eac737e4eb7b32a2f743956bd2f44c5"
 },
 "nbformat": 3,
 "nbformat_minor": 0,
 "worksheets": [
  {
   "cells": [
    {
     "cell_type": "code",
     "collapsed": false,
     "input": [
      "import lxml\n",
      "import lxml.etree\n",
      "import os.path\n",
      "import json\n",
      "export_dir = \"h5p_export\"\n",
      "moodle_dir = \"CommonSenseEcon.mbz-expanded/\"\n",
      "h5p_template_dirs = {\n",
      "    \"CoursePresentation\" : \"H5P_CoursePresentation-template\",\n",
      "}\n",
      "h5p_assets_url_base = \"/assets/workspace/\""
     ],
     "language": "python",
     "metadata": {},
     "outputs": [],
     "prompt_number": 255
    },
    {
     "cell_type": "code",
     "collapsed": false,
     "input": [
      "# credit: http://pythoncentral.io/how-to-recursively-copy-a-directory-folder-in-python/ \n",
      "import errno\n",
      "import shutil\n",
      "import re\n",
      " \n",
      "def copy(src, dest):\n",
      "    try:\n",
      "        shutil.copytree(src, dest)\n",
      "    except OSError as e:\n",
      "        # If the error was caused because the source wasn't a directory\n",
      "        if e.errno == errno.ENOTDIR:\n",
      "            shutil.copy(src, dest)\n",
      "        else:\n",
      "            print('Directory not copied. Error: %s' % e)\n",
      "            \n",
      "def unescape_html(s):\n",
      "    s = s.replace(\"&lt;\", \"<\")\n",
      "    s = s.replace(\"&gt;\", \">\")\n",
      "    s = s.replace(\"&amp;\", \"&\")\n",
      "    return s\n",
      "\n",
      "import urllib2\n",
      "filesxml = lxml.etree.parse(os.path.join(moodle_dir,\"files.xml\"))\n",
      "def download_link_target(url,basedir,content_type=\"files\",force=False):\n",
      "    content_dir = os.path.join(\"content\",content_type)\n",
      "    dn = os.path.join(basedir,content_dir)\n",
      "    if not os.path.exists(dn):\n",
      "        os.makedirs(dn)\n",
      "    fn = os.path.basename(url)\n",
      "    dst = os.path.join(dn,fn)\n",
      "    print \"XXX DL %s to %s\" % (fn,dst)\n",
      "    if not os.path.exists(dst) or force:\n",
      "        urlinfo = urllib2.urlparse.urlparse(url)\n",
      "        if urlinfo.scheme == \"\":\n",
      "            # Look up contentHash associated with fn in files.xml\n",
      "            # copy files/ab/abcd1234..., rename to fn\n",
      "            fn = os.path.basename(url)\n",
      "            mdlfn = filesxml.xpath(\"//file[filename='%s']\" % fn)[0].findtext(\"contenthash\")\n",
      "            src = os.path.join(moodle_dir,\"files\",mdlfn[0:2],mdlfn)\n",
      "            copy(src,dst)\n",
      "        else:\n",
      "            open(dst, \"w\").write(urllib2.urlopen(url).read())\n",
      "    # Return an absolute URL that should work for this file within funzo\n",
      "    return \"/\".join([h5p_assets_url_base,content_dir,fn])"
     ],
     "language": "python",
     "metadata": {},
     "outputs": [],
     "prompt_number": 256
    },
    {
     "cell_type": "code",
     "collapsed": false,
     "input": [
      "from __future__ import unicode_literals\n",
      "import youtube_dl\n",
      "def download_video(url,basedir,content_type=\"files\"):\n",
      "    content_dir = os.path.join(\"content\",content_type)\n",
      "    dn = os.path.join(basedir,content_dir)\n",
      "    if not os.path.exists(dn):\n",
      "        os.makedirs(dn)      \n",
      "    urlinfo = urllib2.urlparse.urlparse(url)\n",
      "    fn = \"-\".join([urlinfo.netloc] + urlinfo.path.split(\"/\"))\n",
      "    dst = os.path.join(dn,fn)\n",
      "    print \"***\\nDOWNLOADING VIDEO\\n  URL: %s\\n  DST: %s\\n***\" % (url,dst)\n",
      "    ydl_opts = {\n",
      "        \"max_downloads\": 1,\n",
      "        \"outtmpl\": dst,\n",
      "    }\n",
      "    with youtube_dl.YoutubeDL(ydl_opts) as ydl:\n",
      "        try:\n",
      "            ydl.download([url])\n",
      "        except youtube_dl.MaxDownloadsReached:\n",
      "            pass\n",
      "    return os.path.join(h5p_assets_url_base,content_dir,fn)"
     ],
     "language": "python",
     "metadata": {},
     "outputs": [],
     "prompt_number": 257
    },
    {
     "cell_type": "code",
     "collapsed": false,
     "input": [
      "class _MoodleContent(object):\n",
      "    # Moodle module type (\"section\", \"page\", \"quiz\", etc)\n",
      "    contentType = None\n",
      "    # Properties from moodle_backup.xml\n",
      "    _base_property_names = [\"sectionid\",\"title\",\"directory\"]\n",
      "    # Properties from <mod_type_dir>/<mod_id>/<mod_type>.xml\n",
      "    _extended_property_names = []\n",
      "    # Properties that contain HTML\n",
      "    _content_nodes = []\n",
      "    \n",
      "    def __init__(self,xmltree):\n",
      "        self._children = None\n",
      "        self.root_xmltree = xmltree\n",
      "        for p in self._base_property_names:\n",
      "            setattr(self, p, self.root_xmltree.find(p).text)\n",
      "        self._set_extended_properties()\n",
      "        \n",
      "    def _set_extended_properties(self):\n",
      "        if len(self._extended_property_names) == 0:\n",
      "            return\n",
      "        sourcefn = moodle_dir + \"%s/%s.xml\" % (self.directory,self.contentType)\n",
      "        sourcexml = lxml.etree.parse(sourcefn).xpath(\"//\" + self.contentType)[0]\n",
      "        for p in self._extended_property_names:\n",
      "            content = sourcexml.find(p).text\n",
      "            setattr(self, p, content)\n",
      "                \n",
      "    def __repr__(self):\n",
      "        title = self.contentType\n",
      "        if self.title is not None:\n",
      "            title += \" %s\" % self.title\n",
      "        lines = []\n",
      "        lines.append(title)\n",
      "        for m in self.children:\n",
      "            lines.append(\"    %s\" % m)\n",
      "        return \"\\n\".join(lines)\n",
      "    \n",
      "    @property\n",
      "    def title(self):\n",
      "        if hasattr(self,\"_title\"):\n",
      "            return self._title\n",
      "        elif hasattr(self,\"name\"):\n",
      "            return self.name\n",
      "        else:\n",
      "            return None\n",
      "    \n",
      "    @title.setter\n",
      "    def title(self,value):\n",
      "        self._title = value\n",
      "         \n",
      "    @property\n",
      "    def children(self):\n",
      "        if self._children is None:\n",
      "            self._children = self._get_children()\n",
      "        return self._children  \n",
      "    \n",
      "    def _get_children(self):\n",
      "        return []\n",
      "    \n",
      "    def fetch_media(self,baseDir,recursive=True):\n",
      "        fetched_files = []\n",
      "        for n in self._content_nodes:\n",
      "            content = getattr(self,n,None)\n",
      "            if content is None:\n",
      "                continue\n",
      "            content_xmltree = lxml.etree.HTML(\"<html>%s</html>\" % content)\n",
      "            (files,revised_xmltree) = self._fetch_media(baseDir,content_xmltree)\n",
      "            \n",
      "            # The above probably updated link targets, so we \n",
      "            # need to update the stored xmltree. To do this, we must\n",
      "            # strip out the <html><body> that was added to the original\n",
      "            # self.content to make it parseable by lxml\n",
      "            revised_content = \"\"\n",
      "            for e in revised_xmltree[0][:]:\n",
      "                revised_content += lxml.etree.tostring(e)\n",
      "            setattr(self,n,revised_content)\n",
      "            \n",
      "            fetched_files += files\n",
      "        if recursive:\n",
      "            for c in self.children:\n",
      "                fetched_files += c.fetch_media(baseDir=baseDir,recursive=recursive)\n",
      "        return fetched_files\n",
      "    \n",
      "    def _fetch_media(self,baseDir,content_xmltree):\n",
      "        download_extensions = (\"png\",\"jpg\",\"docx\",\"pdf\",\"png\",\"mp3\",\"mp4\")\n",
      "        files = []\n",
      "        if content_xmltree is None:\n",
      "            return files\n",
      "        links = {}\n",
      "        links[\"href\"] = content_xmltree.xpath(\"//*[@href]\")\n",
      "        links[\"src\"]  = content_xmltree.xpath(\"//*[@src]\")\n",
      "        for (p,nodes) in links.items():\n",
      "            for n in nodes:\n",
      "                url = n.get(p)\n",
      "                ext = os.path.splitext(url)[-1]\n",
      "                if ext.startswith(\".\"):\n",
      "                    ext = ext[1:]\n",
      "                if ext in download_extensions:\n",
      "                    local_fn = download_link_target(url,baseDir)\n",
      "                    n.set(p,local_fn)\n",
      "                    files.append(local_fn)\n",
      "\n",
      "                elif getattr(self,\"title\",None) is not None:\n",
      "                    if self.title.startswith(\"Watch:\"):\n",
      "                        local_fn = download_video(url,baseDir)\n",
      "                        n.set(p,local_fn)\n",
      "                        files.append(local_fn)\n",
      "                        \n",
      "        return (files,content_xmltree) \n",
      "    \n",
      "    def to_h5p(self,subDir=None,baseDir=export_dir):\n",
      "        if subDir is None:\n",
      "            subDir = self.title\n",
      "        h5pDir = os.path.join(baseDir,subDir)\n",
      "        return self._h5pClass(self,h5pDir)\n",
      "    \n",
      "    def to_html(self):\n",
      "        return \"\\n\".join([ getattr(self,c) for c in self._content_nodes if getattr(self,c,None) is not None ])\n",
      "    \n",
      "\n",
      "class MoodleSection(_MoodleContent):\n",
      "    contentType = \"section\"\n",
      "    _base_property_names = [\"sectionid\",\"title\",\"directory\"]\n",
      "    _extended_property_names = [\"summary\"]\n",
      "    _content_nodes = [\"summary\"]\n",
      "    _h5pClass = H5PCoursePresentation\n",
      "\n",
      "    def _get_children(self):\n",
      "        children = []\n",
      "        # Note: \"//\" causes this search to start from the passed <section>'s\n",
      "        #       xml root (top-level parent).\n",
      "        for axml in self.root_xmltree.xpath(\"//activities/activity[sectionid = %s]\" % self.sectionid):\n",
      "            try:\n",
      "                mod = module_factory(axml)\n",
      "            except UnknownMoodleModuleException,e:\n",
      "                print \"\\n***\\n%s\\n***\\n\" % e\n",
      "                mod = _MoodleModule(axml)\n",
      "            children.append(mod)\n",
      "        return children\n",
      "            \n",
      "            \n",
      "class _MoodleModule(_MoodleContent):\n",
      "    _base_property_names = _MoodleContent._base_property_names + [\"moduleid\",\"modulename\"]\n",
      "    _h5pClass = H5PSlide\n",
      "    \n",
      "    @property\n",
      "    def contentType(self):\n",
      "        return self.modulename\n",
      "    \n",
      "class MoodlePage(_MoodleModule):\n",
      "    _extended_property_names = [\"intro\",\"content\"]\n",
      "    _content_nodes = [\"intro\",\"content\"]\n",
      "\n",
      "class MoodleLabel(_MoodleModule):\n",
      "    _extended_property_names = [\"name\",\"intro\"]\n",
      "    _content_nodes = [\"intro\"]\n",
      "\n",
      "# TODO\n",
      "class MoodleAssign(_MoodleModule):\n",
      "    _extended_property_names = [\"name\",\"intro\"]\n",
      "    _content_nodes = [\"intro\"]\n",
      "\n",
      "class MoodleFolder(_MoodleModule):\n",
      "    pass\n",
      "\n",
      "class MoodleForum(_MoodleModule):\n",
      "    # Ignore these for online standalone course?\n",
      "    pass\n",
      "\n",
      "class MoodleQuiz(_MoodleModule):\n",
      "    _extended_property_names = [\"name\",\"intro\"]\n",
      "    _content_nodes = [\"intro\"]\n",
      "\n",
      "class MoodleUrl(_MoodleModule):\n",
      "    _extended_property_names = [\"name\",\"intro\", \"externalurl\"]\n",
      "    _content_nodes = [\"intro\"]"
     ],
     "language": "python",
     "metadata": {},
     "outputs": [],
     "prompt_number": 258
    },
    {
     "cell_type": "code",
     "collapsed": false,
     "input": [
      "import uuid\n",
      "import shutil\n",
      "class H5PCoursePresentation(object):\n",
      "    def __init__(self,section,baseDir,auto_save=True,force_fresh=False):\n",
      "        self._content_dict = None\n",
      "        self.mdlobj     = section\n",
      "        self.baseDir    = baseDir\n",
      "        self.contentDir = os.path.join(self.baseDir,\"content\")\n",
      "        if auto_save:\n",
      "            self.save(force_fresh=force_fresh)\n",
      "        \n",
      "    def save(self,force_fresh=False):\n",
      "        if os.path.exists(self.baseDir) and force_fresh:\n",
      "            print \"XXX Removing existing dir: %s\" % self.baseDir\n",
      "            shutil.rmtree(self.baseDir)\n",
      "        if not os.path.exists(self.baseDir):\n",
      "            print \"XXX copying template to %s\" % self.baseDir\n",
      "            copy(h5p_template_dirs[\"CoursePresentation\"],self.baseDir)\n",
      "        print \"XXX Downloading media...\"\n",
      "        self.mdlobj.fetch_media(self.baseDir,recursive=True)\n",
      "        print \"XXX Populating content.json...\"\n",
      "        content_fh = open(os.path.join(self.contentDir,\"content.json\"),\"w\")\n",
      "        content_fh.write(self.content_json)\n",
      "        content_fh.close()\n",
      "        print \"XXX DONE.\"\n",
      "            \n",
      "    @property\n",
      "    def content_json(self):\n",
      "        return json.dumps(self.content)\n",
      "            \n",
      "    @property\n",
      "    def content(self):\n",
      "        if self._content_dict is None:\n",
      "            self._content_dict = self._generate_content_dict()\n",
      "        return self._content_dict\n",
      "    \n",
      "    def _generate_content_dict(self):\n",
      "        content = {}\n",
      "        content[\"presentation\"] = {\n",
      "            \"slides\": [ c.to_h5p(self.baseDir).content for c in self.mdlobj.children ]\n",
      "            }\n",
      "        content[\"l10n\"] = {\n",
      "            \"slide\": \"Slide\",\n",
      "            \"yourScore\": \"Your Score\",\n",
      "            \"maxScore\": \"Max Score\",\n",
      "            \"goodScore\": \"Congratulations! You got @percent correct!\",\n",
      "            \"okScore\": \"Nice effort! You got @percent correct!\",\n",
      "            \"badScore\": \"You got @percent correct.\",\n",
      "            \"Total\": \"Total\",\n",
      "            \"showSolutions\": \"Show solutions\",\n",
      "            \"retry\": \"Retry\",\n",
      "            \"title\": \"Title\",\n",
      "            \"author\": \"Author\",\n",
      "            \"lisence\": \"Lisence\",\n",
      "            \"license\": \"License\",\n",
      "            \"exportAnswers\": \"Export text\",\n",
      "            \"copyright\": \"Rights of use\",\n",
      "            \"hideKeywords\": \"Hide keywords list\",\n",
      "            \"showKeywords\": \"Show keywords list\",\n",
      "            \"fullscreen\": \"Fullscreen\",\n",
      "            \"exitFullscreen\": \"Exit fullscreen\",\n",
      "            \"prevSlide\": \"Previous slide\",\n",
      "            \"nextSlide\": \"Next slide\",\n",
      "            \"currentSlide\": \"Current slide\",\n",
      "            \"lastSlide\": \"Last slide\",\n",
      "            \"solutionModeTitle\": \"Exit solution mode\",\n",
      "            \"solutionModeText\": \"Solution Mode\",\n",
      "            \"summaryMultipleTaskText\": \"Multiple tasks\",\n",
      "            \"scoreMessage\": \"You achieved:\",\n",
      "            \"shareFacebook\": \"Share on Facebook\",\n",
      "            \"shareTwitter\": \"Share on Twitter\",\n",
      "            \"summary\": \"Summary\",\n",
      "            \"solutionsButtonTitle\": \"Show comments\",\n",
      "            \"printTitle\": \"Print\",\n",
      "            \"printIngress\": \"How would you like to print this presentation?\",\n",
      "            \"printAllSlides\": \"Print all slides\",\n",
      "            \"printCurrentSlide\": \"Print current slide\"\n",
      "          }\n",
      "        content[\"override\"] = {\n",
      "            \"activeSurface\": False,\n",
      "            \"overrideButtons\": False,\n",
      "            \"overrideShowSolutionButton\": False,\n",
      "            \"overrideRetry\": False,\n",
      "            \"hideSummarySlide\": False\n",
      "          }\n",
      "        return content\n",
      "        \n",
      "    def __repr__(self):\n",
      "        return self.content_json\n",
      "    \n",
      "class H5PSlide(object):\n",
      "    def __init__(self,mdlobj,baseDir):\n",
      "        self.baseDir = baseDir\n",
      "        self.content = {\n",
      "            \"elements\": [\n",
      "              {\n",
      "                \"x\": 1,\n",
      "                \"y\": 1,\n",
      "                \"width\": 98,\n",
      "                \"height\": 98,\n",
      "                \"action\": {\n",
      "                  \"library\": \"H5P.AdvancedText 1.1\",\n",
      "                  \"params\": {\n",
      "                    \"text\": mdlobj.to_html(),\n",
      "                  },\n",
      "                  \"subContentId\": str(uuid.uuid1())\n",
      "                },\n",
      "                \"alwaysDisplayComments\": False,\n",
      "                \"backgroundOpacity\": 0,\n",
      "                \"displayAsButton\": False,\n",
      "                \"invisible\": False,\n",
      "                \"solution\": \"\"\n",
      "              }\n",
      "            ],\n",
      "            \"keywords\": []\n",
      "          }\n",
      "        \n",
      "    @property\n",
      "    def content_json(self):\n",
      "        return json.dumps(self.content)\n",
      "    \n",
      "    def fetch_media(self):\n",
      "        return self.mdlobj.fetch_media(self.baseDir)\n",
      "    \n",
      "    def __repr__(self):\n",
      "        return self.content_json"
     ],
     "language": "python",
     "metadata": {},
     "outputs": [],
     "prompt_number": 259
    },
    {
     "cell_type": "code",
     "collapsed": false,
     "input": [
      "e = lxml.etree.parse(moodle_dir + \"moodle_backup.xml\")\n",
      "s = MoodleSection(e.xpath(\"//sections/section\")[1])\n",
      "#print str(s)\n",
      "#s.fetch_media(\"/tmp/foo\")\n",
      "print s\n",
      "c = s.children\n",
      "p = c[0]\n",
      "#s.fetch_media(\"/tmp/foo\")\n",
      "h = s.to_h5p()"
     ],
     "language": "python",
     "metadata": {},
     "outputs": [
      {
       "output_type": "stream",
       "stream": "stdout",
       "text": [
        "section Module 00: First Day\n",
        "    page Objectives:  Module 00\n",
        "    quiz Start Line: Survey of Economic Reasoning\n",
        "    quiz Start Line: CSE 1001 Survey of Economic Reasoning\n",
        "    quiz Start Line: CSE 1002 Survey of Economic Reasoning\n",
        "    page Module 00: Course Background\n",
        "    page Watch: Module 00\n",
        "    page Read: Module 00\n",
        "    page Listen: Module 00\n",
        "    forum Do:  Discussion Board Module 0 Introductions (MODIFY and then delete this.)\n",
        "    forum Do: Discussion Board Module 01\n",
        "XXX Downloading media...\n",
        "XXX DL CSE_1000_course_banner_v1_Bb.jpg to h5p_export/Module 00: First Day/content/files/CSE_1000_course_banner_v1_Bb.jpg\n",
        "***\n",
        "DOWNLOADING VIDEO\n",
        "  URL: http://www.criticalcommons.org/Members/fsustavros/clips/cse-intro-aei-secret-to-happiness-1/video_view\n",
        "  DST: h5p_export/Module 00: First Day/content/files/www.criticalcommons.org--Members-fsustavros-clips-cse-intro-aei-secret-to-happiness-1-video_view\n",
        "***\n",
        "[generic] video_view: Requesting header\n"
       ]
      },
      {
       "output_type": "stream",
       "stream": "stderr",
       "text": [
        "WARNING: Falling back on generic information extractor.\n"
       ]
      },
      {
       "output_type": "stream",
       "stream": "stdout",
       "text": [
        "[generic] video_view: Downloading webpage\n"
       ]
      },
      {
       "output_type": "stream",
       "stream": "stdout",
       "text": [
        "[generic] video_view: Extracting information\n"
       ]
      },
      {
       "output_type": "stream",
       "stream": "stdout",
       "text": [
        "[download] Downloading playlist: None\n"
       ]
      },
      {
       "output_type": "stream",
       "stream": "stdout",
       "text": [
        "[generic] playlist None: Collected 2 video ids (downloading 2 of them)\n"
       ]
      },
      {
       "output_type": "stream",
       "stream": "stdout",
       "text": [
        "[download] Downloading video 1 of 2\n"
       ]
      },
      {
       "output_type": "stream",
       "stream": "stdout",
       "text": [
        "[download] h5p_export/Module 00: First Day/content/files/www.criticalcommons.org--Members-fsustavros-clips-cse-intro-aei-secret-to-happiness-1-video_view has already been downloaded\n"
       ]
      },
      {
       "output_type": "stream",
       "stream": "stdout",
       "text": [
        "\r",
        "[download] 100% of 40.55MiB\n"
       ]
      },
      {
       "output_type": "stream",
       "stream": "stdout",
       "text": [
        "[download] Downloading video 2 of 2\n"
       ]
      },
      {
       "output_type": "stream",
       "stream": "stdout",
       "text": [
        "[info] Maximum number of downloaded files reached.\n"
       ]
      },
      {
       "output_type": "stream",
       "stream": "stdout",
       "text": [
        "***\n",
        "DOWNLOADING VIDEO\n",
        "  URL: http://www.criticalcommons.org/Members/fsustavros/clips/pt0_i01_overview_tr\n",
        "  DST: h5p_export/Module 00: First Day/content/files/www.criticalcommons.org--Members-fsustavros-clips-pt0_i01_overview_tr\n",
        "***\n",
        "[generic] pt0_i01_overview_tr: Requesting header\n"
       ]
      },
      {
       "output_type": "stream",
       "stream": "stderr",
       "text": [
        "WARNING: Falling back on generic information extractor.\n"
       ]
      },
      {
       "output_type": "stream",
       "stream": "stdout",
       "text": [
        "[generic] pt0_i01_overview_tr: Downloading webpage\n"
       ]
      },
      {
       "output_type": "stream",
       "stream": "stdout",
       "text": [
        "[generic] pt0_i01_overview_tr: Extracting information\n"
       ]
      },
      {
       "output_type": "stream",
       "stream": "stdout",
       "text": [
        "[download] Downloading playlist: None\n"
       ]
      },
      {
       "output_type": "stream",
       "stream": "stdout",
       "text": [
        "[generic] playlist None: Collected 2 video ids (downloading 2 of them)\n"
       ]
      },
      {
       "output_type": "stream",
       "stream": "stdout",
       "text": [
        "[download] Downloading video 1 of 2\n"
       ]
      },
      {
       "output_type": "stream",
       "stream": "stdout",
       "text": [
        "[download] h5p_export/Module 00: First Day/content/files/www.criticalcommons.org--Members-fsustavros-clips-pt0_i01_overview_tr has already been downloaded\n"
       ]
      },
      {
       "output_type": "stream",
       "stream": "stdout",
       "text": [
        "\r",
        "[download] 100% of 21.27MiB\n"
       ]
      },
      {
       "output_type": "stream",
       "stream": "stdout",
       "text": [
        "[download] Downloading video 2 of 2\n"
       ]
      },
      {
       "output_type": "stream",
       "stream": "stdout",
       "text": [
        "[info] Maximum number of downloaded files reached.\n"
       ]
      },
      {
       "output_type": "stream",
       "stream": "stdout",
       "text": [
        "***\n",
        "DOWNLOADING VIDEO\n",
        "  URL: http://www.criticalcommons.org/Members/fsustavros/clips/pt0_i03_author_tr\n",
        "  DST: h5p_export/Module 00: First Day/content/files/www.criticalcommons.org--Members-fsustavros-clips-pt0_i03_author_tr\n",
        "***\n",
        "[generic] pt0_i03_author_tr: Requesting header\n"
       ]
      },
      {
       "output_type": "stream",
       "stream": "stderr",
       "text": [
        "WARNING: Falling back on generic information extractor.\n"
       ]
      },
      {
       "output_type": "stream",
       "stream": "stdout",
       "text": [
        "[generic] pt0_i03_author_tr: Downloading webpage\n"
       ]
      },
      {
       "output_type": "stream",
       "stream": "stdout",
       "text": [
        "[generic] pt0_i03_author_tr: Extracting information\n"
       ]
      },
      {
       "output_type": "stream",
       "stream": "stdout",
       "text": [
        "[download] Downloading playlist: None\n"
       ]
      },
      {
       "output_type": "stream",
       "stream": "stdout",
       "text": [
        "[generic] playlist None: Collected 2 video ids (downloading 2 of them)\n"
       ]
      },
      {
       "output_type": "stream",
       "stream": "stdout",
       "text": [
        "[download] Downloading video 1 of 2\n"
       ]
      },
      {
       "output_type": "stream",
       "stream": "stdout",
       "text": [
        "[download] h5p_export/Module 00: First Day/content/files/www.criticalcommons.org--Members-fsustavros-clips-pt0_i03_author_tr has already been downloaded\n"
       ]
      },
      {
       "output_type": "stream",
       "stream": "stdout",
       "text": [
        "\r",
        "[download] 100% of 51.80MiB\n"
       ]
      },
      {
       "output_type": "stream",
       "stream": "stdout",
       "text": [
        "[download] Downloading video 2 of 2\n"
       ]
      },
      {
       "output_type": "stream",
       "stream": "stdout",
       "text": [
        "[info] Maximum number of downloaded files reached.\n"
       ]
      },
      {
       "output_type": "stream",
       "stream": "stdout",
       "text": [
        "XXX Populating content.json...\n",
        "XXX DONE.\n"
       ]
      }
     ],
     "prompt_number": 260
    },
    {
     "cell_type": "code",
     "collapsed": false,
     "input": [
      "# Factory function for generating an object of the appropriate class, \n",
      "# given the xml node of a Moodle <activity> from moodle_backup.xml\n",
      "class UnknownMoodleModuleException(Exception):\n",
      "    pass\n",
      "\n",
      "def module_factory(module_xml):\n",
      "    module_classes = {\n",
      "        \"assign\": MoodleAssign,\n",
      "        \"folder\" : MoodleFolder,\n",
      "        \"forum\" : MoodleForum,\n",
      "        \"label\" : MoodleLabel,\n",
      "        \"page\"  : MoodlePage,\n",
      "        \"quiz\"  : MoodleQuiz,\n",
      "        \"url\"   : MoodleUrl,\n",
      "    }\n",
      "    modulename = module_xml.find(\"modulename\").text\n",
      "    if module_classes.has_key(modulename):\n",
      "        return module_classes[modulename](module_xml)\n",
      "    else: \n",
      "        raise UnknownMoodleModuleException(\"Don't know how to handle '%s' modules\" % modulename)"
     ],
     "language": "python",
     "metadata": {},
     "outputs": [],
     "prompt_number": 261
    },
    {
     "cell_type": "markdown",
     "metadata": {},
     "source": [
      "# STATUS\n",
      "At this point, the script can load in all the sections and modules in a course, download any files that are referenced with regular links.\n",
      "\n",
      "# TODO:\n",
      "* Add special handling for video\n",
      "* Generate H5P json from moodle objects\n",
      "* Probably other things I'm not thinking of right now..."
     ]
    },
    {
     "cell_type": "markdown",
     "metadata": {},
     "source": [
      "# From here down are experiments with tallying the number and types of questions in the quizzes\n",
      "\n",
      "They can be ignored unless you're curious about that.\n",
      "\n",
      "## First, all questions in the question bank..."
     ]
    },
    {
     "cell_type": "code",
     "collapsed": false,
     "input": [
      "questions = lxml.etree.parse(moodle_dir + \"questions.xml\")\n",
      "questions_by_id = {}\n",
      "questions_by_qtype = {}\n",
      "for q in questions.xpath(\"//question\"):\n",
      "    qid = q.get(\"id\")\n",
      "    questions_by_id[qid] = {}\n",
      "    for prop in [\"qtype\",\"name\",\"questiontext\"]:\n",
      "        questions_by_id[qid][prop] = q.findtext(prop)\n",
      "    if not questions_by_qtype.has_key(questions_by_id[qid][\"qtype\"]):\n",
      "        questions_by_qtype[questions_by_id[qid][\"qtype\"]] = []\n",
      "    questions_by_qtype[questions_by_id[qid][\"qtype\"]].append(qid)\n",
      "    \n",
      "total = 0\n",
      "for qtype,qlist in questions_by_qtype.items():\n",
      "    total += len(qlist)\n",
      "    print \"%s:  %s\" % (qtype,len(qlist))\n",
      "print \"TOTAL:  %s\" % total"
     ],
     "language": "python",
     "metadata": {},
     "outputs": [
      {
       "output_type": "stream",
       "stream": "stdout",
       "text": [
        "essay:  319\n",
        "multichoice:  3925\n",
        "random:  740\n",
        "TOTAL:  4984\n"
       ]
      }
     ],
     "prompt_number": 262
    },
    {
     "cell_type": "markdown",
     "metadata": {},
     "source": [
      "## Another approach: read in all question refs from all quizzes, cross reference with questions_by_id, and  get the breakdown by type of the *used* questions."
     ]
    },
    {
     "cell_type": "code",
     "collapsed": false,
     "input": [
      "import glob\n",
      "used_questions_by_qtype = {}\n",
      "for qfn in glob.glob(moodle_dir + \"activities/quiz_*\"):\n",
      "    qxml = lxml.etree.parse(qfn+\"/quiz.xml\")\n",
      "    for qid in [ q.text for q in qxml.xpath(\"//question_instance/questionid\")]:\n",
      "        qdata = questions_by_id[qid]\n",
      "        if not used_questions_by_qtype.has_key(qdata[\"qtype\"]):\n",
      "            used_questions_by_qtype[qdata[\"qtype\"]] = []\n",
      "        used_questions_by_qtype[qdata[\"qtype\"]].append(qid)   \n",
      "        \n",
      "total = 0\n",
      "for qtype,qlist in used_questions_by_qtype.items():\n",
      "    total += len(qlist)\n",
      "    print \"%s:  %s\" % (qtype,len(qlist))\n",
      "print \"TOTAL:  %s\" % total"
     ],
     "language": "python",
     "metadata": {},
     "outputs": [
      {
       "output_type": "stream",
       "stream": "stdout",
       "text": [
        "essay:  194\n",
        "multichoice:  52\n",
        "random:  780\n",
        "TOTAL:  1026\n"
       ]
      }
     ],
     "prompt_number": 263
    },
    {
     "cell_type": "code",
     "collapsed": false,
     "input": [
      "print \"Hello {%(name)s and %(blah)s} {}\" % {\"blah\":\"FOO\",\"name\":\"BAR\"}"
     ],
     "language": "python",
     "metadata": {},
     "outputs": [
      {
       "output_type": "stream",
       "stream": "stdout",
       "text": [
        "Hello {BAR and FOO} {}\n"
       ]
      }
     ],
     "prompt_number": 264
    }
   ],
   "metadata": {}
  }
 ]
}